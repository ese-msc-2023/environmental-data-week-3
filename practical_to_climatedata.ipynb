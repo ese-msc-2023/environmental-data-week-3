{
 "cells": [
  {
   "cell_type": "markdown",
   "metadata": {},
   "source": [
    "# Learning the ropes with climate data - practical and discussion questions"
   ]
  },
  {
   "cell_type": "markdown",
   "metadata": {},
   "source": [
    "## 1. OPTIONAL: Setup ESMValTool on your computer\n",
    "\n",
    "You may or may not use ESMValTool itself, but by installing ESMValTool, you will automatically also install a suite of  libraries used to analyze climate data. \n",
    "See the installation instructions [here](https://docs.esmvaltool.org/en/latest/quickstart/installation.html). Note that based on experience with previous classes, ESMValTool may or may not install for you. ESMValTool can be helpful, but it is not required. Give it a try, but if it doesn't work for you, don't spend too much of your time on this. \n",
    "\n",
    "Once installed, setup a virtual environment called 'esmvaltool' (or whatever you want). You will probably want to work from within that environment this week. \n",
    "\n",
    "---"
   ]
  },
  {
   "cell_type": "markdown",
   "metadata": {},
   "source": [
    "## 2. IMPORTANT: Create and get access accounts to all climate data providers discussed in the class.\n",
    "\n",
    "Review the jupyter notebook and ensure you create the necessary accounts that will let you access the climate data you need. The most important one being\n",
    "* [CEDA](https://archive.ceda.ac.uk). \n",
    "* [CDS](https://cds.climate.copernicus.eu/user/109796/edit)\n",
    "\n",
    "---"
   ]
  },
  {
   "cell_type": "markdown",
   "metadata": {},
   "source": [
    "# 3. HELPFUL: Experimenting with  NetCDF Operators, [NCO](http://nco.sourceforge.net)\n",
    "\n",
    "0. Make sure NCO routines are installed on your machine\n",
    "\n",
    "1. Open a new [SHELL](https://swcarpentry.github.io/shell-novice/) terminal (not a python session, just a shell, .bash, or .zsh, etc.) \n",
    "\n",
    "2. use `ncdump -h` to familiarize yourself with the content of these files. Note, 'ncdump' is not an NCO routine, it is part of the netCDF library itself. \n",
    "   \n",
    "     The netCDF library (installed in the esmvaltool enviroment, or via homebrew, conda, or some other means) has a very useful command, called `ncdump`. This command literally 'dumps' the data from a file to wherever. While this could be useful, I find 'ncdump' most useful when use as `ncdump -h <filename.nc>`, where the `-h` option stands for 'header'. This will print the headers of the netCDF file to screen. It is extremely useful to know what are in the netCDF files without having to open them. \n",
    "\n",
    "     First, let's get some data to play with. We'll use model output from the latest IPCC climate modeling intercomparion project (CMIP6). There are two files in the `/data/CMIP6/`directory. (These files where obtained from CEDA.)\n",
    "\n",
    "         * ta_Emon_UKESM1-0-LL_piControl_r1i1p1f2_gn_196001-204912.nc\n",
    "         * ta_Emon_UKESM1-0-LL_piControl_r1i1p1f2_gn_205001-214912.nc\n",
    "        \n",
    "   1. What variable do these file contain?\n",
    "   2. What are the dimensions?\n",
    "   3. What atmospheric model was used to produce these results? What is the model name and resolution of the atmospheric model?\n",
    "   4. What set of CF conventions are used?\n",
    "\n",
    "\n",
    "3. Use NCO operators: \n",
    "    1. Look at the file `data/ESA_SST_cci_v2.1_Obs4MIPS/tos_mon_ESA-CCI-SST-v2-1_BE_gn_198109-201712.nc`. This file was downloaded from [CEDA](https://data.ceda.ac.uk/neodc/esacci/sst/data/obs4MIPs/UReading/ESA-CCI-SST-v2-1/mon/tos/gn/v20201130/)\n",
    "         * What is that file about? What variable is in there? What are the dimensions?\n",
    "  \n",
    "    2. use an NCO command, or multiple, to produce \n",
    "          * a file containing the annual average of the variable in that file. \n",
    "          * a file containting a seasonal climatology, i.e 12 months for one year, with the average for each month. \n",
    "          \n",
    "         * Hint: Google (or other search engines) are your friends - many recipes are found online. Searching the [online documentation](http://nco.sourceforge.net) for NCO is also extremely useful as many examples are shown there. \n",
    "         * Note: no solution will be provided - you must convince yourself you are doing the right thing by checking that the values you get are what you want.\n",
    "\n",
    "---"
   ]
  },
  
 ],
 "metadata": {
  "language_info": {
   "name": "python"
  },
  "orig_nbformat": 4
 },
 "nbformat": 4,
 "nbformat_minor": 2
}
