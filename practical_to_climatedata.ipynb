{
 "cells": [
  {
   "cell_type": "markdown",
   "metadata": {},
   "source": [
    "# Learning the ropes with climate data - practical and discussion questions"
   ]
  },
  {
   "cell_type": "markdown",
   "metadata": {},
   "source": [
    "## 1. OPTIONAL: Setup ESMValTool on your computer\n",
    "\n",
    "You may or may not use ESMValTool itself, but by installing ESMValTool, you will automatically also install a suite of  libraries used to analyze climate data. \n",
    "See the installation instructions [here](https://docs.esmvaltool.org/en/latest/quickstart/installation.html). Note that based on experience with previous classes, ESMValTool may or may not install for you. ESMValTool can be helpful, but it is not required. Give it a try, but if it doesn't work for you, don't spend too much of your time on this. \n",
    "\n",
    "Once installed, setup a virtual environment called 'esmvaltool' (or whatever you want). You will probably want to work from within that environment this week. \n",
    "\n",
    "---"
   ]
  },
  {
   "cell_type": "markdown",
   "metadata": {},
   "source": [
    "## 2. IMPORTANT: Create and get access accounts to all climate data providers discussed in the class.\n",
    "\n",
    "Review the jupyter notebook and ensure you create the necessary accounts that will let you access the climate data you need. The most important one being\n",
    "* [CEDA](https://archive.ceda.ac.uk). \n",
    "* [CDS](https://cds.climate.copernicus.eu/user/109796/edit)\n",
    "\n",
    "---"
   ]
  },
  {
   "cell_type": "markdown",
   "metadata": {},
   "source": [
    "# 3. HELPFUL: Experimenting with  NetCDF Operators, [NCO](http://nco.sourceforge.net)\n",
    "\n",
    "0. Make sure NCO routines are installed on your machine\n",
    "\n",
    "1. Open a new [SHELL](https://swcarpentry.github.io/shell-novice/) terminal (not a python session, just a shell, .bash, or .zsh, etc.) \n",
    "\n",
    "2. use `ncdump -h` to familiarize yourself with the content of these files. Note, 'ncdump' is not an NCO routine, it is part of the netCDF library itself. \n",
    "   \n",
    "     The netCDF library (installed in the esmvaltool enviroment, or via homebrew, conda, or some other means) has a very useful command, called `ncdump`. This command literally 'dumps' the data from a file to wherever. While this could be useful, I find 'ncdump' most useful when use as `ncdump -h <filename.nc>`, where the `-h` option stands for 'header'. This will print the headers of the netCDF file to screen. It is extremely useful to know what are in the netCDF files without having to open them. \n",
    "\n",
    "     First, let's get some data to play with. We'll use model output from the latest IPCC climate modeling intercomparion project (CMIP6). There are two files in the `/data/CMIP6/`directory. (These files where obtained from CEDA.)\n",
    "\n",
    "         * ta_Emon_UKESM1-0-LL_piControl_r1i1p1f2_gn_196001-204912.nc\n",
    "         * ta_Emon_UKESM1-0-LL_piControl_r1i1p1f2_gn_205001-214912.nc\n",
    "        \n",
    "   1. What variable do these file contain?\n",
    "   2. What are the dimensions?\n",
    "   3. What atmospheric model was used to produce these results? What is the model name and resolution of the atmospheric model?\n",
    "   4. What set of CF conventions are used?\n",
    "\n",
    "\n",
    "3. Use NCO operators: \n",
    "    1. Look at the file `data/ESA_SST_cci_v2.1_Obs4MIPS/tos_mon_ESA-CCI-SST-v2-1_BE_gn_198109-201712.nc`. This file was downloaded from [CEDA](https://data.ceda.ac.uk/neodc/esacci/sst/data/obs4MIPs/UReading/ESA-CCI-SST-v2-1/mon/tos/gn/v20201130/)\n",
    "         * What is that file about? What variable is in there? What are the dimensions?\n",
    "  \n",
    "    2. use an NCO command, or multiple, to produce \n",
    "          * a file containing the annual average of the variable in that file. \n",
    "          * a file containting a seasonal climatology, i.e 12 months for one year, with the average for each month. \n",
    "          \n",
    "         * Hint: Google (or other search engines) are your friends - many recipes are found online. Searching the [online documentation](http://nco.sourceforge.net) for NCO is also extremely useful as many examples are shown there. \n",
    "         * Note: no solution will be provided - you must convince yourself you are doing the right thing by checking that the values you get are what you want.\n",
    "\n",
    "---"
   ]
  },
  {
   "cell_type": "markdown",
   "metadata": {},
   "source": [
    "## 4. Should French Champagne makers invest in wineries in Hampshire (UK)?\n",
    "\n",
    "Recently, [french champagne producer Tattinger have decided to invest in a winery in Kent, called Domaine Evremond](https://www.domaineevremond.com).  Tattinger is aware that other English wineries in [Hampshire](https://en.wikipedia.org/wiki/Hampshire) are also [producing excellent sparkling wine](https://www.visit-hampshire.co.uk/food-and-drink/vineyards). \n",
    "\n",
    "Tattinger's business wing is of course concerned about this. Are these new UK wineries going to be strong competitors for them, or should Tattinger see these as investment opportunities and try to buy them while they can to establish a stronger presence in the UK market?\n",
    "\n",
    "Like everyone else, Tattinger is also aware about climate change and they realize that, from now on, they need to systematically incorporate a climate analysis as part of their business decisions.  \n",
    "\n",
    "From the growing success of English winemakers, Tattinger can see that the current climate in the Hampshire region is good enough at the moment for growing good grapes, but they want to know if and how climate change will affect the current climate in Hampshire. Ultimately, they want to know if climate change could affect the wine buisness in Hampshire. Will climate change negatively affect viticulture in the region, should we expect little change, or are conditions actually going to become even better for growing grapes in the next few decades? \n",
    "\n",
    "Imagine that your new start-up, as an up-and-coming climate intelligence company, is being contacted by representatives from Tattinger HQ to advise them on how climate will change in Hampshire. They want to know how climate change may affect wineries in Hampshire in the coming 50 years or so and they are looking for someone to deliver answers.  \n",
    "\n",
    "**Your task is to develop a research strategy that will answer their questions on the future of climate in Hampshire.**\n",
    "\n",
    "Sadly, time is of the essence! Tattinger has heard that [Moet-et-Chandon](https://en.wikipedia.org/wiki/Moët_&_Chandon), another major champagne producer, is also eyeing on these buisness opportunities and they must act fast. **You will need to present a research strategy to Tattinger HQ on Thursday morning, Nov 25, 10 am in the form of a Jupyter Notebook that you will discuss.** \n",
    "\n",
    "You don't have much time, but this could be a big and importnat contract for your new company so you want to develop a good proposal, ideally with some preliminary results to showcase your skills, prove to them that you are the right people for the job, and stimulate enthusiasm. \n",
    "\n",
    "Consider which data you want to use, how to get them (can you access and analyze them already?), what could be learned from them. Consider resolution, data use policy, data storage and analytical requirements (will you need to use a cloud service, like JASMIN, if so, could you use this for free as a comercial entity, ir not, how much could that cost?) \n",
    "\n",
    "Use any and all resources at your disposal (including your instructor and your classmates) but keep in mind that **this is a commercial project**, so beware of any data use or resource access policies in place. (It could be that addressing this question would imply some costs that could be passed on to the client.) \n",
    "\n",
    "\n",
    "\n"
   ]
  }
 ],
 "metadata": {
  "language_info": {
   "name": "python"
  },
  "orig_nbformat": 4
 },
 "nbformat": 4,
 "nbformat_minor": 2
}
